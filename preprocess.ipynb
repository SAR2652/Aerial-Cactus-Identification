{
 "cells": [
  {
   "cell_type": "code",
   "execution_count": 1,
   "metadata": {},
   "outputs": [],
   "source": [
    "import cv2"
   ]
  },
  {
   "cell_type": "code",
   "execution_count": 2,
   "metadata": {},
   "outputs": [],
   "source": [
    "directory = '/home/sarvesh/ML_Github/cactus/'\n",
    "img = cv2.imread(directory + 'train/' + '0a1b6731bda8f1b6a807fffc743f8d22.jpg', -1)"
   ]
  },
  {
   "cell_type": "code",
   "execution_count": 3,
   "metadata": {},
   "outputs": [
    {
     "data": {
      "text/plain": [
       "(32, 32, 3)"
      ]
     },
     "execution_count": 3,
     "metadata": {},
     "output_type": "execute_result"
    }
   ],
   "source": [
    "#convert to grayscale\n",
    "gray = cv2.cvtColor(img, cv2.COLOR_BGR2GRAY)\n",
    "gray.shape  #(32, 32)\n",
    "img.shape"
   ]
  },
  {
   "cell_type": "code",
   "execution_count": 6,
   "metadata": {},
   "outputs": [],
   "source": [
    "#apply blur\n",
    "#blur = cv2.GaussianBlur(gray, (15, 15), 0)\n",
    "\n",
    "#apply simple binary thresholding\n",
    "ret, thresh_bin = cv2.threshold(gray, 210, 255, cv2.THRESH_BINARY)\n",
    "\n",
    "#apply otsu thresholding\n",
    "ret, thresh_otsu = cv2.threshold(gray, 200, 255, cv2.THRESH_OTSU)\n",
    "\n",
    "#apply adaptive thresholding\n",
    "gaus = cv2.adaptiveThreshold(gray, 255, cv2.ADAPTIVE_THRESH_GAUSSIAN_C, cv2.THRESH_BINARY, 115, 1)"
   ]
  },
  {
   "cell_type": "code",
   "execution_count": null,
   "metadata": {},
   "outputs": [],
   "source": [
    "cv2.imshow('cactus', img)\n",
    "cv2.imshow('gray', gray)\n",
    "#cv2.imshow('blur', blur)\n",
    "cv2.imshow('bin', thresh_bin)\n",
    "cv2.imshow('otsu', thresh_otsu)\n",
    "cv2.imshow('gaus', gaus)\n",
    "cv2.waitKey(0)\n",
    "cv2.destroyAllWindows()"
   ]
  },
  {
   "cell_type": "code",
   "execution_count": null,
   "metadata": {},
   "outputs": [],
   "source": []
  }
 ],
 "metadata": {
  "kernelspec": {
   "display_name": "Python 3",
   "language": "python",
   "name": "python3"
  },
  "language_info": {
   "codemirror_mode": {
    "name": "ipython",
    "version": 3
   },
   "file_extension": ".py",
   "mimetype": "text/x-python",
   "name": "python",
   "nbconvert_exporter": "python",
   "pygments_lexer": "ipython3",
   "version": "3.6.7"
  }
 },
 "nbformat": 4,
 "nbformat_minor": 2
}
